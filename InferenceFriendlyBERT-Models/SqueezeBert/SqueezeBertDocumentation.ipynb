{
  "nbformat": 4,
  "nbformat_minor": 0,
  "metadata": {
    "colab": {
      "provenance": []
    },
    "kernelspec": {
      "name": "python3",
      "display_name": "Python 3"
    },
    "language_info": {
      "name": "python"
    }
  },
  "cells": [
    {
      "cell_type": "code",
      "execution_count": 8,
      "metadata": {
        "id": "p7zahb_Dnyqw"
      },
      "outputs": [],
      "source": [
        "import pandas as pd\n",
        "from sklearn.model_selection import train_test_split\n",
        "from transformers import BertTokenizer, BertForSequenceClassification\n",
        "from torch.utils.data import DataLoader, Dataset\n",
        "from transformers import AutoTokenizer, AutoModelForSequenceClassification, Trainer, TrainingArguments, AdamW\n",
        "import torch\n",
        "from torch.optim import AdamW\n",
        "from sklearn.metrics import accuracy_score, classification_report\n",
        "\n",
        "# Load the dataset\n",
        "file_path = '/content/preprocesseddata.xlsx'\n",
        "data = pd.read_excel(file_path)\n",
        "\n",
        "# Selecting and preparing the relevant columns\n",
        "data = data[['codes', 'tokens', 'ManualLabel']]\n",
        "data['codes'] = data['codes'].apply(eval)\n",
        "data = data.explode('codes')\n",
        "data = data[data['codes'].str.contains('Documentation')]  # Filter to only 'Bug' aspect\n",
        "\n",
        "# Mapping labels to new non-negative numerical values\n",
        "label_mapping = {'p': 2, 'n': 1, 'o': 0}  # Positive, Negative, Other\n",
        "data['ManualLabel'] = data['ManualLabel'].map(label_mapping)"
      ]
    },
    {
      "cell_type": "code",
      "source": [
        "# Splitting the data\n",
        "X_train, X_test, y_train, y_test = train_test_split(data['tokens'], data['ManualLabel'], test_size=0.3, random_state=42)\n",
        "\n",
        "# Load the tokenizer and model\n",
        "tokenizer = AutoTokenizer.from_pretrained('squeezebert/squeezebert-uncased')\n",
        "model = AutoModelForSequenceClassification.from_pretrained('squeezebert/squeezebert-uncased', num_labels=3) # for three labels p, n, o\n",
        "\n",
        "# Dataset class\n",
        "class ReviewDataset(Dataset):\n",
        "    def __init__(self, texts, labels, tokenizer, max_len=128):\n",
        "        self.texts = texts\n",
        "        self.labels = labels\n",
        "        self.tokenizer = tokenizer\n",
        "        self.max_len = max_len\n",
        "\n",
        "    def __len__(self):\n",
        "        return len(self.texts)\n",
        "\n",
        "    def __getitem__(self, idx):\n",
        "        text = str(self.texts[idx])\n",
        "        label = self.labels[idx]\n",
        "        inputs = self.tokenizer.encode_plus(\n",
        "            text,\n",
        "            None,\n",
        "            add_special_tokens=True,\n",
        "            max_length=self.max_len,\n",
        "            padding='max_length',\n",
        "            return_attention_mask=True,\n",
        "            truncation=True,\n",
        "            return_tensors='pt'\n",
        "        )\n",
        "        return {\n",
        "            'input_ids': inputs['input_ids'].flatten(),\n",
        "            'attention_mask': inputs['attention_mask'].flatten(),\n",
        "            'labels': torch.tensor(label, dtype=torch.long)\n",
        "        }\n",
        "\n",
        "# DataLoader setup\n",
        "def create_data_loader(X, y, tokenizer, batch_size, max_len):\n",
        "    ds = ReviewDataset(\n",
        "        texts=X.to_numpy(),\n",
        "        labels=y.to_numpy(),\n",
        "        tokenizer=tokenizer,\n",
        "        max_len=max_len\n",
        "    )\n",
        "    return DataLoader(\n",
        "        ds,\n",
        "        batch_size=batch_size,\n",
        "        num_workers=0  # Set workers to 0 to avoid multiprocessing issues in certain environments\n",
        "    )\n",
        "\n",
        "batch_size = 16\n",
        "train_data_loader = create_data_loader(X_train, y_train, tokenizer, batch_size, max_len=128)\n",
        "test_data_loader = create_data_loader(X_test, y_test, tokenizer, batch_size, max_len=128)\n",
        "\n",
        "# Move model to GPU if available\n",
        "device = torch.device(\"cuda\" if torch.cuda.is_available() else \"cpu\")\n",
        "model = model.to(device)\n"
      ],
      "metadata": {
        "colab": {
          "base_uri": "https://localhost:8080/"
        },
        "id": "e7UPAYbZC_Sl",
        "outputId": "9b00d9ff-946b-4612-9a1d-41d1f3aeb5a0"
      },
      "execution_count": 9,
      "outputs": [
        {
          "output_type": "stream",
          "name": "stderr",
          "text": [
            "/usr/local/lib/python3.10/dist-packages/huggingface_hub/file_download.py:1132: FutureWarning: `resume_download` is deprecated and will be removed in version 1.0.0. Downloads always resume when possible. If you want to force a new download, use `force_download=True`.\n",
            "  warnings.warn(\n",
            "Some weights of SqueezeBertForSequenceClassification were not initialized from the model checkpoint at squeezebert/squeezebert-uncased and are newly initialized: ['classifier.bias', 'classifier.weight']\n",
            "You should probably TRAIN this model on a down-stream task to be able to use it for predictions and inference.\n"
          ]
        }
      ]
    },
    {
      "cell_type": "code",
      "source": [
        "# Optimizer\n",
        "optimizer = AdamW(model.parameters(), lr=2e-5)\n",
        "\n",
        "# Training Loop\n",
        "def train_epoch(model, data_loader, optimizer, device, n_examples):\n",
        "    model = model.train()\n",
        "    losses = []\n",
        "    correct_predictions = 0\n",
        "\n",
        "    for d in data_loader:\n",
        "        input_ids = d[\"input_ids\"].to(device)\n",
        "        attention_mask = d[\"attention_mask\"].to(device)\n",
        "        labels = d[\"labels\"].to(device)\n",
        "\n",
        "        outputs = model(\n",
        "            input_ids=input_ids,\n",
        "            attention_mask=attention_mask,\n",
        "            labels=labels\n",
        "        )\n",
        "        loss = outputs.loss\n",
        "        preds = torch.argmax(outputs.logits, dim=1)\n",
        "        correct_predictions += torch.sum(preds == labels)\n",
        "        losses.append(loss.item())\n",
        "        loss.backward()\n",
        "        optimizer.step()\n",
        "        optimizer.zero_grad()\n",
        "\n",
        "    return correct_predictions.double() / n_examples, sum(losses) / len(losses)\n",
        "\n",
        "# Train the model\n",
        "for epoch in range(3):  # Number of epochs\n",
        "    print(f'Epoch {epoch + 1}')\n",
        "    train_acc, train_loss = train_epoch(\n",
        "        model,\n",
        "        train_data_loader,\n",
        "        optimizer,\n",
        "        device,\n",
        "        len(X_train)\n",
        "    )\n",
        "    print(f'Train loss {train_loss} accuracy {train_acc}')"
      ],
      "metadata": {
        "colab": {
          "base_uri": "https://localhost:8080/"
        },
        "id": "ox_sDAuzDJK1",
        "outputId": "126cc117-560b-40d9-cc00-fc8a790bdf49"
      },
      "execution_count": 10,
      "outputs": [
        {
          "output_type": "stream",
          "name": "stdout",
          "text": [
            "Epoch 1\n",
            "Train loss 1.0608821958303452 accuracy 0.4915254237288136\n",
            "Epoch 2\n",
            "Train loss 1.0091178218523662 accuracy 0.5310734463276836\n",
            "Epoch 3\n",
            "Train loss 0.9675283879041672 accuracy 0.536723163841808\n"
          ]
        }
      ]
    },
    {
      "cell_type": "code",
      "source": [
        "import time\n",
        "from sklearn.metrics import accuracy_score, recall_score, precision_score, f1_score\n",
        "\n",
        "# Set the model to evaluation mode\n",
        "model.eval()\n",
        "predictions, true_labels = [], []\n",
        "total_inference_time = 0\n",
        "total_samples = 0\n",
        "\n",
        "# Ensure that 'no_grad' is used to prevent updating the model during inference\n",
        "with torch.no_grad():\n",
        "    for i, batch in enumerate(test_data_loader):\n",
        "        input_ids = batch['input_ids'].to(device)\n",
        "        attention_mask = batch['attention_mask'].to(device)\n",
        "\n",
        "        print(f\"Processing batch {i+1}/{len(test_data_loader)}...\")  # Log current batch number\n",
        "\n",
        "        start_time = time.time()\n",
        "        outputs = model(input_ids=input_ids, attention_mask=attention_mask)\n",
        "        inference_time = time.time() - start_time\n",
        "\n",
        "        total_inference_time += inference_time\n",
        "        total_samples += input_ids.size(0)\n",
        "\n",
        "        logits = outputs.logits\n",
        "        preds = logits.argmax(dim=1).cpu().numpy()\n",
        "        labels = batch['labels'].cpu().numpy()\n",
        "\n",
        "        predictions.extend(preds)\n",
        "        true_labels.extend(labels)\n",
        "\n",
        "        if i == 3:  # for instance, break after 3 batches\n",
        "            break\n",
        "\n",
        "# Compute metrics\n",
        "overall_accuracy = accuracy_score(true_labels, predictions)\n",
        "overall_recall = recall_score(true_labels, predictions, average='macro')\n",
        "overall_precision = precision_score(true_labels, predictions, average='macro')\n",
        "overall_f1_score = f1_score(true_labels, predictions, average='macro')\n",
        "\n",
        "print(f'Overall Accuracy: {overall_accuracy:.4f}')\n",
        "print(f'Overall Recall: {overall_recall:.4f}')\n",
        "print(f'Overall Precision: {overall_precision:.4f}')\n",
        "print(f'Overall F1 Score: {overall_f1_score:.4f}')\n",
        "\n",
        "# Calculate total and average inference times\n",
        "total_time_seconds = total_inference_time\n",
        "sample_latency_seconds = total_inference_time / total_samples\n",
        "print(f'Total Time (seconds): {total_time_seconds:.6f} seconds')\n",
        "print(f'Samples Processed: {total_samples}')\n",
        "print(f'Latency Per Sample (seconds): {sample_latency_seconds:.6f} seconds')\n"
      ],
      "metadata": {
        "colab": {
          "base_uri": "https://localhost:8080/"
        },
        "id": "DDoBGpBBF2b_",
        "outputId": "42992cf4-f275-4725-8d42-584ff9a8a6f9"
      },
      "execution_count": 11,
      "outputs": [
        {
          "output_type": "stream",
          "name": "stdout",
          "text": [
            "Processing batch 1/5...\n",
            "Processing batch 2/5...\n",
            "Processing batch 3/5...\n",
            "Processing batch 4/5...\n",
            "Overall Accuracy: 0.4688\n",
            "Overall Recall: 0.3333\n",
            "Overall Precision: 0.1562\n",
            "Overall F1 Score: 0.2128\n",
            "Total Time (seconds): 14.478480 seconds\n",
            "Samples Processed: 64\n",
            "Latency Per Sample (seconds): 0.226226 seconds\n"
          ]
        },
        {
          "output_type": "stream",
          "name": "stderr",
          "text": [
            "/usr/local/lib/python3.10/dist-packages/sklearn/metrics/_classification.py:1344: UndefinedMetricWarning: Precision is ill-defined and being set to 0.0 in labels with no predicted samples. Use `zero_division` parameter to control this behavior.\n",
            "  _warn_prf(average, modifier, msg_start, len(result))\n"
          ]
        }
      ]
    }
  ]
}