{
  "cells": [
    {
      "cell_type": "code",
      "execution_count": 23,
      "metadata": {
        "id": "p7zahb_Dnyqw",
        "colab": {
          "base_uri": "https://localhost:8080/"
        },
        "outputId": "8dccba04-4ce4-49d4-927b-691b6fce93df"
      },
      "outputs": [
        {
          "output_type": "stream",
          "name": "stderr",
          "text": [
            "<ipython-input-23-2a99d8cc542c>:21: SettingWithCopyWarning: \n",
            "A value is trying to be set on a copy of a slice from a DataFrame.\n",
            "Try using .loc[row_indexer,col_indexer] = value instead\n",
            "\n",
            "See the caveats in the documentation: https://pandas.pydata.org/pandas-docs/stable/user_guide/indexing.html#returning-a-view-versus-a-copy\n",
            "  data['ManualLabel'] = data['ManualLabel'].map(label_mapping)\n"
          ]
        }
      ],
      "source": [
        "import pandas as pd\n",
        "from sklearn.model_selection import train_test_split\n",
        "from transformers import BertTokenizer, BertForSequenceClassification\n",
        "from torch.utils.data import DataLoader, Dataset\n",
        "import torch\n",
        "from torch.optim import AdamW\n",
        "from sklearn.metrics import accuracy_score, classification_report\n",
        "\n",
        "# Load the dataset\n",
        "file_path = '/content/preprocesseddata.xlsx'\n",
        "data = pd.read_excel(file_path)\n",
        "\n",
        "# Selecting and preparing the relevant columns\n",
        "data = data[['codes', 'tokens', 'ManualLabel']]\n",
        "data['codes'] = data['codes'].apply(eval)\n",
        "data = data.explode('codes')\n",
        "data = data[data['codes'].str.contains('OnlySentiment')]  # Filter to only 'Bug' aspect\n",
        "\n",
        "# Mapping labels to new non-negative numerical values\n",
        "label_mapping = {'p': 2, 'n': 1, 'o': 0}  # Positive, Negative, Other\n",
        "data['ManualLabel'] = data['ManualLabel'].map(label_mapping)"
      ]
    },
    {
      "cell_type": "code",
      "execution_count": 24,
      "metadata": {
        "colab": {
          "base_uri": "https://localhost:8080/"
        },
        "id": "e7UPAYbZC_Sl",
        "outputId": "1aa2fe63-b645-4917-9202-81c338206a5d"
      },
      "outputs": [
        {
          "output_type": "stream",
          "name": "stderr",
          "text": [
            "Some weights of BertForSequenceClassification were not initialized from the model checkpoint at bert-base-uncased and are newly initialized: ['classifier.bias', 'classifier.weight']\n",
            "You should probably TRAIN this model on a down-stream task to be able to use it for predictions and inference.\n"
          ]
        }
      ],
      "source": [
        "# Splitting the data\n",
        "X_train, X_test, y_train, y_test = train_test_split(data['tokens'], data['ManualLabel'], test_size=0.3, random_state=42)\n",
        "\n",
        "# Tokenizer and model setup\n",
        "tokenizer = BertTokenizer.from_pretrained('bert-base-uncased')\n",
        "model = BertForSequenceClassification.from_pretrained('bert-base-uncased', num_labels=3)  # for three labels p, n, o\n",
        "\n",
        "# Dataset class\n",
        "class ReviewDataset(Dataset):\n",
        "    def __init__(self, texts, labels, tokenizer, max_len=128):\n",
        "        self.texts = texts\n",
        "        self.labels = labels\n",
        "        self.tokenizer = tokenizer\n",
        "        self.max_len = max_len\n",
        "\n",
        "    def __len__(self):\n",
        "        return len(self.texts)\n",
        "\n",
        "    def __getitem__(self, idx):\n",
        "        text = str(self.texts[idx])\n",
        "        label = self.labels[idx]\n",
        "        inputs = self.tokenizer.encode_plus(\n",
        "            text,\n",
        "            None,\n",
        "            add_special_tokens=True,\n",
        "            max_length=self.max_len,\n",
        "            padding='max_length',\n",
        "            return_attention_mask=True,\n",
        "            truncation=True,\n",
        "            return_tensors='pt'\n",
        "        )\n",
        "        return {\n",
        "            'input_ids': inputs['input_ids'].flatten(),\n",
        "            'attention_mask': inputs['attention_mask'].flatten(),\n",
        "            'labels': torch.tensor(label, dtype=torch.long)\n",
        "        }\n",
        "\n",
        "# DataLoader setup\n",
        "def create_data_loader(X, y, tokenizer, batch_size, max_len):\n",
        "    ds = ReviewDataset(\n",
        "        texts=X.to_numpy(),\n",
        "        labels=y.to_numpy(),\n",
        "        tokenizer=tokenizer,\n",
        "        max_len=max_len\n",
        "    )\n",
        "    return DataLoader(\n",
        "        ds,\n",
        "        batch_size=batch_size,\n",
        "        num_workers=0  # Set workers to 0 to avoid multiprocessing issues in certain environments\n",
        "    )\n",
        "\n",
        "batch_size = 16\n",
        "train_data_loader = create_data_loader(X_train, y_train, tokenizer, batch_size, max_len=128)\n",
        "test_data_loader = create_data_loader(X_test, y_test, tokenizer, batch_size, max_len=128)\n",
        "\n",
        "# Move model to GPU if available\n",
        "device = torch.device(\"cuda\" if torch.cuda.is_available() else \"cpu\")\n",
        "model = model.to(device)\n"
      ]
    },
    {
      "cell_type": "code",
      "execution_count": 25,
      "metadata": {
        "colab": {
          "base_uri": "https://localhost:8080/"
        },
        "id": "ox_sDAuzDJK1",
        "outputId": "6c26e7f3-ef2d-4fbc-80f9-878e44de725b"
      },
      "outputs": [
        {
          "output_type": "stream",
          "name": "stdout",
          "text": [
            "Epoch 1\n",
            "Train loss 1.1088776215910912 accuracy 0.371900826446281\n",
            "Epoch 2\n",
            "Train loss 1.078307144343853 accuracy 0.4132231404958678\n",
            "Epoch 3\n",
            "Train loss 1.025724746286869 accuracy 0.4669421487603306\n"
          ]
        }
      ],
      "source": [
        "# Optimizer\n",
        "optimizer = AdamW(model.parameters(), lr=2e-5)\n",
        "\n",
        "# Training Loop\n",
        "def train_epoch(model, data_loader, optimizer, device, n_examples):\n",
        "    model = model.train()\n",
        "    losses = []\n",
        "    correct_predictions = 0\n",
        "\n",
        "    for d in data_loader:\n",
        "        input_ids = d[\"input_ids\"].to(device)\n",
        "        attention_mask = d[\"attention_mask\"].to(device)\n",
        "        labels = d[\"labels\"].to(device)\n",
        "\n",
        "        outputs = model(\n",
        "            input_ids=input_ids,\n",
        "            attention_mask=attention_mask,\n",
        "            labels=labels\n",
        "        )\n",
        "        loss = outputs.loss\n",
        "        preds = torch.argmax(outputs.logits, dim=1)\n",
        "        correct_predictions += torch.sum(preds == labels)\n",
        "        losses.append(loss.item())\n",
        "        loss.backward()\n",
        "        optimizer.step()\n",
        "        optimizer.zero_grad()\n",
        "\n",
        "    return correct_predictions.double() / n_examples, sum(losses) / len(losses)\n",
        "\n",
        "# Train the model\n",
        "for epoch in range(3):  # Number of epochs\n",
        "    print(f'Epoch {epoch + 1}')\n",
        "    train_acc, train_loss = train_epoch(\n",
        "        model,\n",
        "        train_data_loader,\n",
        "        optimizer,\n",
        "        device,\n",
        "        len(X_train)\n",
        "    )\n",
        "    print(f'Train loss {train_loss} accuracy {train_acc}')"
      ]
    },
    {
      "cell_type": "code",
      "execution_count": 26,
      "metadata": {
        "colab": {
          "base_uri": "https://localhost:8080/"
        },
        "id": "DDoBGpBBF2b_",
        "outputId": "9f347699-7b24-42b5-ab1f-a596c4ae71ac"
      },
      "outputs": [
        {
          "output_type": "stream",
          "name": "stdout",
          "text": [
            "Processing batch 1/7...\n",
            "Processing batch 2/7...\n",
            "Processing batch 3/7...\n",
            "Processing batch 4/7...\n",
            "Overall Accuracy: 0.4219\n",
            "Overall Recall: 0.4477\n",
            "Overall Precision: 0.4186\n",
            "Overall F1 Score: 0.3824\n",
            "Total Time (seconds): 25.643996 seconds\n",
            "Samples Processed: 64\n",
            "Latency Per Sample (seconds): 0.400687 seconds\n"
          ]
        }
      ],
      "source": [
        "import time\n",
        "from sklearn.metrics import accuracy_score, recall_score, precision_score, f1_score\n",
        "\n",
        "# Set the model to evaluation mode\n",
        "model.eval()\n",
        "predictions, true_labels = [], []\n",
        "total_inference_time = 0\n",
        "total_samples = 0\n",
        "\n",
        "# Ensure that 'no_grad' is used to prevent updating the model during inference\n",
        "with torch.no_grad():\n",
        "    for i, batch in enumerate(test_data_loader):\n",
        "        input_ids = batch['input_ids'].to(device)\n",
        "        attention_mask = batch['attention_mask'].to(device)\n",
        "\n",
        "        print(f\"Processing batch {i+1}/{len(test_data_loader)}...\")  # Log current batch number\n",
        "\n",
        "        start_time = time.time()\n",
        "        outputs = model(input_ids=input_ids, attention_mask=attention_mask)\n",
        "        inference_time = time.time() - start_time\n",
        "\n",
        "        total_inference_time += inference_time\n",
        "        total_samples += input_ids.size(0)\n",
        "\n",
        "        logits = outputs.logits\n",
        "        preds = logits.argmax(dim=1).cpu().numpy()\n",
        "        labels = batch['labels'].cpu().numpy()\n",
        "\n",
        "        predictions.extend(preds)\n",
        "        true_labels.extend(labels)\n",
        "\n",
        "        if i == 3:  # for instance, break after 3 batches\n",
        "            break\n",
        "\n",
        "# Compute metrics\n",
        "overall_accuracy = accuracy_score(true_labels, predictions)\n",
        "overall_recall = recall_score(true_labels, predictions, average='macro')\n",
        "overall_precision = precision_score(true_labels, predictions, average='macro')\n",
        "overall_f1_score = f1_score(true_labels, predictions, average='macro')\n",
        "\n",
        "print(f'Overall Accuracy: {overall_accuracy:.4f}')\n",
        "print(f'Overall Recall: {overall_recall:.4f}')\n",
        "print(f'Overall Precision: {overall_precision:.4f}')\n",
        "print(f'Overall F1 Score: {overall_f1_score:.4f}')\n",
        "\n",
        "# Calculate total and average inference times\n",
        "total_time_seconds = total_inference_time\n",
        "sample_latency_seconds = total_inference_time / total_samples\n",
        "print(f'Total Time (seconds): {total_time_seconds:.6f} seconds')\n",
        "print(f'Samples Processed: {total_samples}')\n",
        "print(f'Latency Per Sample (seconds): {sample_latency_seconds:.6f} seconds')\n"
      ]
    }
  ],
  "metadata": {
    "colab": {
      "provenance": []
    },
    "kernelspec": {
      "display_name": "Python 3",
      "name": "python3"
    },
    "language_info": {
      "name": "python"
    }
  },
  "nbformat": 4,
  "nbformat_minor": 0
}